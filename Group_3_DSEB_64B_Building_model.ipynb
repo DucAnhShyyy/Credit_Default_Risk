{
 "cells": [
  {
   "cell_type": "markdown",
   "id": "5231c385-1730-431f-86ff-cf192a1a4354",
   "metadata": {},
   "source": [
    "## IV Building model"
   ]
  },
  {
   "cell_type": "markdown",
   "id": "ca50e69e-d2db-4a77-a636-e6c0f67dee0c",
   "metadata": {},
   "source": [
    "## 1. Import libraies and data set"
   ]
  },
  {
   "cell_type": "code",
   "execution_count": 18,
   "id": "4b3734d2-037c-4786-96b2-48b683907fdf",
   "metadata": {},
   "outputs": [],
   "source": [
    "import pandas as pd\n",
    "import numpy as np\n",
    "from sklearn.preprocessing import StandardScaler\n",
    "from sklearn.linear_model import LogisticRegression\n",
    "from sklearn.metrics import roc_auc_score\n",
    "from sklearn.model_selection import train_test_split"
   ]
  },
  {
   "cell_type": "code",
   "execution_count": 2,
   "id": "138baacb-8f46-4376-8ff6-7fe95cf3beac",
   "metadata": {},
   "outputs": [],
   "source": [
    "app_train = pd.read_csv('application_train_data.csv')\n",
    "app_test = pd.read_csv('application_test_data.csv')\n",
    "id = pd.read_csv('id_submit.csv')"
   ]
  },
  {
   "cell_type": "code",
   "execution_count": 3,
   "id": "425ca31e-a137-455a-9804-8db88222c0d0",
   "metadata": {},
   "outputs": [],
   "source": [
    "X_train = app_train.drop(columns = 'TARGET')\n",
    "X_test = app_test\n",
    "y_train = app_train['TARGET']"
   ]
  },
  {
   "cell_type": "code",
   "execution_count": 4,
   "id": "1ac46896-b8ee-47cb-881b-38736ff1070f",
   "metadata": {},
   "outputs": [],
   "source": [
    "del app_train\n",
    "del app_test"
   ]
  },
  {
   "cell_type": "markdown",
   "id": "60375d13-9889-493f-9f00-d3a695249f98",
   "metadata": {},
   "source": [
    "## 2. Using gridsearch to find the best params"
   ]
  },
  {
   "cell_type": "code",
   "execution_count": null,
   "id": "03d40778-fb15-4509-a333-b2ac935883d1",
   "metadata": {},
   "outputs": [],
   "source": [
    "# pipeline = Pipeline([\n",
    "#     ('scaler', StandardScaler()),\n",
    "#     ('model', LogisticRegression(random_state=42))\n",
    "# ])\n",
    "\n",
    "# param_grid = {\n",
    "#     'model__C': [0.01, 0.1, 1, 10, 100], \n",
    "#     'model__solver': ['lbfgs', 'liblinear'],  \n",
    "#     'model__penalty': ['l2'],  \n",
    "#     'model__max_iter': [100, 200, 500], \n",
    "# }\n",
    "\n",
    "# grid_search = GridSearchCV(\n",
    "#     estimator=pipeline,\n",
    "#     param_grid=param_grid,\n",
    "#     cv=5,  \n",
    "#     scoring='roc_auc',  \n",
    "#     n_jobs=-1,  \n",
    "#     verbose=2  \n",
    "# )"
   ]
  },
  {
   "cell_type": "code",
   "execution_count": null,
   "id": "76f931a7-6501-4105-8186-c346932b8dd4",
   "metadata": {},
   "outputs": [],
   "source": [
    "# grid_search.fit(X_train_split, y_train_split)\n",
    "\n",
    "# print(\"Best Parameters:\", grid_search.best_params_)\n",
    "# print(f\"Best Cross-Validation ROC AUC: {grid_search.best_score_:.4f}\")"
   ]
  },
  {
   "cell_type": "markdown",
   "id": "7638d8db-135b-4efc-96c0-6b74219f77e8",
   "metadata": {},
   "source": [
    "## 3. Test the model on the training set using validation"
   ]
  },
  {
   "cell_type": "code",
   "execution_count": 5,
   "id": "b94c0d4d-facf-4e7e-bf9c-2a18dea3de36",
   "metadata": {},
   "outputs": [],
   "source": [
    "model = LogisticRegression(C = 10, max_iter = 1000,solver = 'liblinear')"
   ]
  },
  {
   "cell_type": "code",
   "execution_count": 20,
   "id": "8c5a7f83-506f-4ce1-a119-dc698bf4f379",
   "metadata": {},
   "outputs": [],
   "source": [
    "# Splitting the training data into train and validation sets\n",
    "X_train_split, X_valid, y_train_split, y_valid = train_test_split(X_train, y_train, test_size=0.2, random_state=42, stratify=y_train)"
   ]
  },
  {
   "cell_type": "code",
   "execution_count": 22,
   "id": "ed96d152-ed0e-4b49-9b40-de62ee88f02c",
   "metadata": {},
   "outputs": [],
   "source": [
    "scaler = StandardScaler()\n",
    "\n",
    "# Fit the scaler on the training data and transform both training and validation data\n",
    "X_train_scaled = scaler.fit_transform(X_train_split)\n",
    "X_valid_scaled = scaler.transform(X_valid)"
   ]
  },
  {
   "cell_type": "code",
   "execution_count": 23,
   "id": "8e6fb89c-c436-4528-9430-0df407fcf997",
   "metadata": {},
   "outputs": [
    {
     "name": "stdout",
     "output_type": "stream",
     "text": [
      "ROC AUC: 0.7729\n"
     ]
    }
   ],
   "source": [
    "# Train and evaluate models\n",
    "model.fit(X_train_scaled, y_train_split)\n",
    "y_pred_valid = model.predict_proba(X_valid_scaled)[:, 1]\n",
    "roc_auc = roc_auc_score(y_valid, y_pred_valid)\n",
    "print(f\"ROC AUC: {roc_auc:.4f}\")"
   ]
  },
  {
   "cell_type": "markdown",
   "id": "8c322bf6-8ba5-4931-b4e4-22b5eee7be22",
   "metadata": {},
   "source": [
    "### With logistic regression we have achieve the roc auc: 0.7729"
   ]
  },
  {
   "cell_type": "markdown",
   "id": "75909267-5044-459e-9c16-3b2c99f74224",
   "metadata": {},
   "source": [
    "## 4. Train the whole data for submission"
   ]
  },
  {
   "cell_type": "code",
   "execution_count": null,
   "id": "062518b6-d7ee-4d4d-8d73-45ceaf6f51f5",
   "metadata": {},
   "outputs": [],
   "source": [
    "# scaler = StandardScaler()\n",
    "\n",
    "# # Fit the scaler on the training data and transform both training and validation data\n",
    "# X_train_scaled = scaler.fit_transform(X_train_split)\n",
    "# X_valid_scaled = scaler.transform(X_valid)"
   ]
  },
  {
   "cell_type": "code",
   "execution_count": null,
   "id": "6b01dd42-ca83-4258-90b8-29524c8556df",
   "metadata": {},
   "outputs": [],
   "source": [
    "# model.fit(X_train_scaled, y_train)\n",
    "# y_test_pred = model.predict_proba(X_test_scaled)[:, 1]\n",
    "# submission = pd.DataFrame({'SK_ID_CURR': id['SK_ID_CURR'], 'TARGET': y_test_pred})"
   ]
  },
  {
   "cell_type": "code",
   "execution_count": null,
   "id": "e9ded2d7-b521-46c0-aaaf-6d77f836c8d2",
   "metadata": {},
   "outputs": [],
   "source": [
    "# submission.shape"
   ]
  },
  {
   "cell_type": "code",
   "execution_count": null,
   "id": "aa12e8d6-1ee4-4e80-af1f-cfe1f97552bb",
   "metadata": {},
   "outputs": [],
   "source": [
    "# submission.head()"
   ]
  },
  {
   "cell_type": "code",
   "execution_count": null,
   "id": "d685d697-4662-48cb-b729-32f0b70c2a35",
   "metadata": {},
   "outputs": [],
   "source": [
    "# submission.to_csv(\"submission.csv\", index=False)"
   ]
  }
 ],
 "metadata": {
  "kernelspec": {
   "display_name": "Python 3 (ipykernel)",
   "language": "python",
   "name": "python3"
  },
  "language_info": {
   "codemirror_mode": {
    "name": "ipython",
    "version": 3
   },
   "file_extension": ".py",
   "mimetype": "text/x-python",
   "name": "python",
   "nbconvert_exporter": "python",
   "pygments_lexer": "ipython3",
   "version": "3.12.4"
  }
 },
 "nbformat": 4,
 "nbformat_minor": 5
}
