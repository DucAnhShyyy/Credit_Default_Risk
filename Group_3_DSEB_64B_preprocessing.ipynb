{
 "cells": [
  {
   "cell_type": "markdown",
   "metadata": {},
   "source": [
    "<h1>Contents</h1>"
   ]
  },
  {
   "cell_type": "markdown",
   "metadata": {
    "_cell_guid": "2c165ea5-9c16-4765-8f70-4643940c927c",
    "_uuid": "81e16db53fe23d7f531511f996eb6624984d980f"
   },
   "source": [
    "I. Dataset Preparation  \n",
    "1. Import Library \n",
    "2. Function \n",
    "\n",
    "II. Data Exploration  \n",
    "1. Application Train\n",
    "2. Bureau \n",
    "3. Bureau Balance \n",
    "4. Credit Card Balance\n",
    "5. POS CASH Balance  \n",
    "6. Previous Application\n",
    "7. Installation Payments\n",
    "\n",
    "III. Preprocessing  \n",
    "1. Handling Outliers\n",
    "2. Handling Missing Values \n",
    "3. Handling Categorical Features \n",
    "4. Feature Engineering\n",
    "\n",
    "IV. Building Model  \n",
    "1. Create Validation Sets  \n",
    "2. Standard Scaling\n",
    "3. Hyperpareter tunning\n",
    "4. Fit the Model \n",
    "5. Predict"
   ]
  },
  {
   "cell_type": "markdown",
   "metadata": {},
   "source": [
    "# I. Dataset Preparation"
   ]
  },
  {
   "cell_type": "markdown",
   "metadata": {},
   "source": [
    "## 1. Import library"
   ]
  },
  {
   "cell_type": "code",
   "execution_count": 6,
   "metadata": {
    "_cell_guid": "38416409-89e8-431a-a206-0f78136ac8f2",
    "_kg_hide-input": true,
    "_uuid": "51ee747ada40a7cdfb800dfb02046bc353e5ec66"
   },
   "outputs": [
    {
     "data": {
      "text/html": [
       "        <script type=\"text/javascript\">\n",
       "        window.PlotlyConfig = {MathJaxConfig: 'local'};\n",
       "        if (window.MathJax && window.MathJax.Hub && window.MathJax.Hub.Config) {window.MathJax.Hub.Config({SVG: {font: \"STIX-Web\"}});}\n",
       "        if (typeof require !== 'undefined') {\n",
       "        require.undef(\"plotly\");\n",
       "        requirejs.config({\n",
       "            paths: {\n",
       "                'plotly': ['https://cdn.plot.ly/plotly-2.32.0.min']\n",
       "            }\n",
       "        });\n",
       "        require(['plotly'], function(Plotly) {\n",
       "            window._Plotly = Plotly;\n",
       "        });\n",
       "        }\n",
       "        </script>\n",
       "        "
      ]
     },
     "metadata": {},
     "output_type": "display_data"
    }
   ],
   "source": [
    "import pandas as pd\n",
    "import numpy as np\n",
    "\n",
    "from sklearn.preprocessing import PolynomialFeatures\n",
    "from sklearn.preprocessing import LabelEncoder\n",
    "from plotly.offline import init_notebook_mode\n",
    "import matplotlib.pyplot as plt\n",
    "import seaborn as sns\n",
    "import warnings\n",
    "\n",
    "init_notebook_mode(connected=True)\n",
    "\n",
    "import warnings\n",
    "warnings.filterwarnings('ignore')\n",
    "pd.set_option('display.max_columns', None)\n",
    "pd.set_option('display.max_rows', None)\n",
    "pd.set_option('display.max_colwidth', None)"
   ]
  },
  {
   "cell_type": "code",
   "execution_count": 7,
   "metadata": {},
   "outputs": [
    {
     "name": "stdout",
     "output_type": "stream",
     "text": [
      "application_train shape: (246009, 123)\n",
      "application_test shape: (61502, 122)\n",
      "bureau shape: (1465325, 17)\n",
      "bureau_balance shape: (27299925, 3)\n",
      "previous_application shape: (1413701, 37)\n",
      "POS_CASH_balance shape: (8543375, 8)\n",
      "installments_payments shape: (7744758, 8)\n",
      "credit_card_balance shape: (3227965, 23)\n"
     ]
    }
   ],
   "source": [
    "files = {\n",
    "    \"application_train\": r\"dseb63_application_train.csv\",\n",
    "    \"application_test\": r\"dseb63_application_test.csv\",\n",
    "    \"bureau\": r\"dseb63_bureau.csv\",\n",
    "    \"bureau_balance\": r\"dseb63_bureau_balance.csv\",\n",
    "    \"previous_application\": r\"dseb63_previous_application.csv\",\n",
    "    \"POS_CASH_balance\": r\"dseb63_POS_CASH_balance.csv\",\n",
    "    \"installments_payments\": r\"dseb63_installments_payments.csv\",\n",
    "    \"credit_card_balance\": r\"dseb63_credit_card_balance.csv\"\n",
    "}\n",
    "\n",
    "# Load all files into a dictionary\n",
    "data = {}\n",
    "for key, file in files.items():\n",
    "    data[key] = pd.read_csv(file)\n",
    "    print(f\"{key} shape: {data[key].shape}\")"
   ]
  },
  {
   "cell_type": "code",
   "execution_count": 8,
   "metadata": {},
   "outputs": [],
   "source": [
    "data['application_train'].drop(columns = 'Unnamed: 0', inplace = True)\n",
    "data['application_test'].drop(columns = 'Unnamed: 0', inplace = True)"
   ]
  },
  {
   "cell_type": "markdown",
   "metadata": {},
   "source": [
    "## 2. Function"
   ]
  },
  {
   "cell_type": "code",
   "execution_count": 10,
   "metadata": {},
   "outputs": [],
   "source": [
    "# Function to print unique data types\n",
    "def print_dtypes(df, dataset_name):\n",
    "    print(f\"\\nUnique data types in {dataset_name}:\")\n",
    "    print(df.dtypes.value_counts())\n",
    "\n",
    "# Function to check for missing values\n",
    "def check_missing_values(df, dataset_name):\n",
    "    missing_values = df.isnull().sum()\n",
    "    missing_columns = missing_values[missing_values > 0].sort_values(ascending=False)  # Only show columns with missing values\n",
    "    if not missing_columns.empty:\n",
    "        print(f\"\\nMissing values in {dataset_name}:\\n{missing_columns}\")\n",
    "    else:\n",
    "        print(f\"\\nNo missing values in {dataset_name}.\")\n",
    "\n",
    "# Function to check the percentage of missing values\n",
    "def check_missing_percentage(df):\n",
    "    missing_percentage = 100 * df.isnull().sum() / len(df)\n",
    "    missing_columns = missing_percentage[missing_percentage > 0].sort_values(ascending=False) \n",
    "    return missing_columns\n",
    "\n",
    "# Function to handle missing values\n",
    "def handle_missing_values(df):\n",
    "    # Drop columns with more than 80% missing values\n",
    "    threshold = 0.8\n",
    "    cols_to_drop = df.columns[df.isnull().mean() > threshold]\n",
    "    df.drop(columns=cols_to_drop, inplace=True)\n",
    "    print(f\"Dropped columns with more than {threshold*100}% missing values: {list(cols_to_drop)}\")\n",
    "    return df\n",
    "\n",
    "# Function to encode categorical columns and print shapes\n",
    "def encode_categorical_features(df):\n",
    "    le = LabelEncoder()\n",
    "    \n",
    "    education_mapping = {\n",
    "        'Lower secondary': 0, \n",
    "        'Secondary / secondary special': 1, \n",
    "        'Incomplete higher': 2, \n",
    "        'Higher education': 3, \n",
    "        'Academic degree': 4\n",
    "    }\n",
    "  \n",
    "    weekday_mapping = {\n",
    "        'MONDAY': 0, \n",
    "        'TUESDAY': 0, \n",
    "        'WEDNESDAY': 0, \n",
    "        'THURSDAY': 0, \n",
    "        'FRIDAY': 0, \n",
    "        'SATURDAY': 1, \n",
    "        'SUNDAY': 1\n",
    "    }\n",
    "\n",
    "    if 'NAME_EDUCATION_TYPE' in df.columns:\n",
    "        df['NAME_EDUCATION_TYPE'] = df['NAME_EDUCATION_TYPE'].map(education_mapping)\n",
    "    if 'WEEKDAY_APPR_PROCESS_START' in df.columns:\n",
    "        df['WEEKDAY_APPR_PROCESS_START'] = df['WEEKDAY_APPR_PROCESS_START'].map(weekday_mapping)\n",
    "    \n",
    "    categorical_columns = df.select_dtypes(include=['object']).columns\n",
    "    columns_to_encode = [col for col in categorical_columns \n",
    "                         if col not in ['NAME_EDUCATION_TYPE', 'WEEKDAY_APPR_PROCESS_START']]\n",
    "    for col in columns_to_encode:\n",
    "        ##Apply label encoding for col with only 2 unique value\n",
    "        if df[col].nunique() == 2:\n",
    "            df[col] = le.fit_transform(df[col])\n",
    "        else:\n",
    "        ##Apply One-Hot Enconding for multi-category columns\n",
    "            df = pd.get_dummies(df, columns=[col], drop_first = True)\n",
    "            \n",
    "        \n",
    "    return df\n",
    "\n",
    "# Function to handle missing values\n",
    "def impute_cols_with_nas(df):\n",
    "    # Impute missing values for numerical columns with the median\n",
    "    num_cols = df.select_dtypes(include=['float64', 'int64']).columns\n",
    "    for col in num_cols:\n",
    "        df[col].fillna(df[col].median(), inplace=True)\n",
    "        \n",
    "    # Impute missing values for categorical columns with the mode\n",
    "    cat_cols = df.select_dtypes(include=['object']).columns\n",
    "    for col in cat_cols:\n",
    "        df[col].fillna(df[col].mode()[0], inplace=True)"
   ]
  },
  {
   "cell_type": "markdown",
   "metadata": {
    "_cell_guid": "2cfd03cc-f0bb-462a-a0d3-34158797cad7",
    "_uuid": "282f624b00c2a71fdb4164b6977d44a9d10124b2"
   },
   "source": [
    "# <a id=\"III\">III. Preprocessing </a>"
   ]
  },
  {
   "cell_type": "markdown",
   "metadata": {},
   "source": [
    "## <a id=\"1.\">1. Handling Outlier</a>"
   ]
  },
  {
   "cell_type": "markdown",
   "metadata": {},
   "source": [
    "### <a id=\"1.1.\">1.1. Invalid data</a>"
   ]
  },
  {
   "cell_type": "markdown",
   "metadata": {},
   "source": [
    "Invalid data refers to information that does not conform to the expected format or valid range"
   ]
  },
  {
   "cell_type": "code",
   "execution_count": 15,
   "metadata": {},
   "outputs": [
    {
     "data": {
      "image/png": "[encoded data removed]",
      "text/plain": [
       "<Figure size 1000x600 with 1 Axes>"
      ]
     },
     "metadata": {},
     "output_type": "display_data"
    }
   ],
   "source": [
    "df = data['application_train']\n",
    "\n",
    "# Plotting the box plot\n",
    "plt.figure(figsize=(10, 6))\n",
    "sns.boxplot(x=df['DAYS_EMPLOYED'], color='teal')\n",
    "plt.title('Box Plot of DAYS_EMPLOYED', fontsize=16)\n",
    "plt.xlabel('DAYS_EMPLOYED', fontsize=12)\n",
    "plt.show()"
   ]
  },
  {
   "cell_type": "code",
   "execution_count": 16,
   "metadata": {},
   "outputs": [],
   "source": [
    "data['application_train']['DAYS_EMPLOYED'].replace(365243, np.nan, inplace= True)\n",
    "data['application_test']['DAYS_EMPLOYED'].replace(365243, np.nan, inplace= True)"
   ]
  },
  {
   "cell_type": "code",
   "execution_count": 17,
   "metadata": {},
   "outputs": [
    {
     "data": {
      "image/png": "[encoded data removed]",
      "text/plain": [
       "<Figure size 1000x600 with 1 Axes>"
      ]
     },
     "metadata": {},
     "output_type": "display_data"
    }
   ],
   "source": [
    "df = data['bureau']\n",
    "\n",
    "# Plotting the box plot\n",
    "plt.figure(figsize=(10, 6))\n",
    "sns.boxplot(x=df['DAYS_CREDIT_UPDATE'], color='teal')\n",
    "plt.title('Box Plot of DAYS_CREDIT_UPDATE', fontsize=16)\n",
    "plt.xlabel('DAYS_CREDIT_UPDATE', fontsize=12)\n",
    "plt.show()"
   ]
  },
  {
   "cell_type": "code",
   "execution_count": 18,
   "metadata": {},
   "outputs": [
    {
     "data": {
      "image/png": "[encoded data removed]",
      "text/plain": [
       "<Figure size 1000x600 with 1 Axes>"
      ]
     },
     "metadata": {},
     "output_type": "display_data"
    }
   ],
   "source": [
    "df = data['bureau']\n",
    "\n",
    "# Plotting the box plot\n",
    "plt.figure(figsize=(10, 6))\n",
    "sns.boxplot(x=df['DAYS_ENDDATE_FACT'], color='teal')\n",
    "plt.title('Box Plot of DAYS_ENDDATE_FACT', fontsize=16)\n",
    "plt.xlabel('DAYS_ENDDATE_FACT', fontsize=12)\n",
    "plt.show()"
   ]
  },
  {
   "cell_type": "code",
   "execution_count": 19,
   "metadata": {},
   "outputs": [
    {
     "data": {
      "image/png": "[encoded data removed]",
      "text/plain": [
       "<Figure size 1000x600 with 1 Axes>"
      ]
     },
     "metadata": {},
     "output_type": "display_data"
    }
   ],
   "source": [
    "df = data['bureau']\n",
    "\n",
    "# Plotting the box plot\n",
    "plt.figure(figsize=(10, 6))\n",
    "sns.boxplot(x=df['DAYS_CREDIT_ENDDATE'], color='teal')\n",
    "plt.title('Box Plot of DAYS_CREDIT_ENDDATE', fontsize=16)\n",
    "plt.xlabel('DAYS_CREDIT_ENDDATE', fontsize=12)\n",
    "plt.show()"
   ]
  },
  {
   "cell_type": "code",
   "execution_count": 20,
   "metadata": {},
   "outputs": [],
   "source": [
    "data['bureau']['DAYS_CREDIT_UPDATE'].replace(-41947, np.nan, inplace= True)\n",
    "data['bureau']['DAYS_ENDDATE_FACT'].replace(-42023.0, np.nan, inplace= True)\n",
    "data['bureau']['DAYS_CREDIT_ENDDATE'].replace(-42060.0, np.nan, inplace= True)\n",
    "data['bureau']['DAYS_CREDIT_ENDDATE'].loc[data['bureau']['DAYS_CREDIT_ENDDATE'] > 25000] = np.nan"
   ]
  },
  {
   "cell_type": "code",
   "execution_count": 21,
   "metadata": {},
   "outputs": [
    {
     "data": {
      "image/png": "[encoded data removed]",
      "text/plain": [
       "<Figure size 1000x600 with 1 Axes>"
      ]
     },
     "metadata": {},
     "output_type": "display_data"
    }
   ],
   "source": [
    "df = data['previous_application']\n",
    "\n",
    "# Plotting the box plot\n",
    "plt.figure(figsize=(10, 6))\n",
    "sns.boxplot(x=df['DAYS_FIRST_DRAWING'], color='teal')\n",
    "plt.title('Box Plot of DAYS_FIRST_DRAWING', fontsize=16)\n",
    "plt.xlabel('DAYS_FIRST_DRAWING', fontsize=12)\n",
    "plt.show()"
   ]
  },
  {
   "cell_type": "code",
   "execution_count": 22,
   "metadata": {},
   "outputs": [
    {
     "data": {
      "image/png": "[encoded data removed]",
      "text/plain": [
       "<Figure size 1000x600 with 1 Axes>"
      ]
     },
     "metadata": {},
     "output_type": "display_data"
    }
   ],
   "source": [
    "df = data['previous_application']\n",
    "\n",
    "# Plotting the box plot\n",
    "plt.figure(figsize=(10, 6))\n",
    "sns.boxplot(x=df['DAYS_FIRST_DUE'], color='teal')\n",
    "plt.title('Box Plot of DAYS_FIRST_DUE', fontsize=16)\n",
    "plt.xlabel('DAYS_FIRST_DUE', fontsize=12)\n",
    "plt.show()"
   ]
  },
  {
   "cell_type": "code",
   "execution_count": 23,
   "metadata": {},
   "outputs": [
    {
     "data": {
      "image/png": "[encoded data removed]",
      "text/plain": [
       "<Figure size 1000x600 with 1 Axes>"
      ]
     },
     "metadata": {},
     "output_type": "display_data"
    }
   ],
   "source": [
    "df = data['previous_application']\n",
    "\n",
    "# Plotting the box plot\n",
    "plt.figure(figsize=(10, 6))\n",
    "sns.boxplot(x=df['DAYS_LAST_DUE_1ST_VERSION'], color='teal')\n",
    "plt.title('Box Plot of DAYS_LAST_DUE_1ST_VERSION', fontsize=16)\n",
    "plt.xlabel('DAYS_LAST_DUE_1ST_VERSION', fontsize=12)\n",
    "plt.show()"
   ]
  },
  {
   "cell_type": "code",
   "execution_count": 24,
   "metadata": {},
   "outputs": [
    {
     "data": {
      "image/png": "[encoded data removed]",
      "text/plain": [
       "<Figure size 1000x600 with 1 Axes>"
      ]
     },
     "metadata": {},
     "output_type": "display_data"
    }
   ],
   "source": [
    "df = data['previous_application']\n",
    "\n",
    "# Plotting the box plot\n",
    "plt.figure(figsize=(10, 6))\n",
    "sns.boxplot(x=df['DAYS_LAST_DUE'], color='teal')\n",
    "plt.title('Box Plot of DAYS_LAST_DUE', fontsize=16)\n",
    "plt.xlabel('DAYS_LAST_DUE', fontsize=12)\n",
    "plt.show()"
   ]
  },
  {
   "cell_type": "code",
   "execution_count": 25,
   "metadata": {},
   "outputs": [
    {
     "data": {
      "image/png": "[encoded data removed]",
      "text/plain": [
       "<Figure size 1000x600 with 1 Axes>"
      ]
     },
     "metadata": {},
     "output_type": "display_data"
    }
   ],
   "source": [
    "df = data['previous_application']\n",
    "\n",
    "# Plotting the box plot\n",
    "plt.figure(figsize=(10, 6))\n",
    "sns.boxplot(x=df['DAYS_TERMINATION'], color='teal')\n",
    "plt.title('Box Plot of DAYS_TERMINATION', fontsize=16)\n",
    "plt.xlabel('DAYS_TERMINATION', fontsize=12)\n",
    "plt.show()"
   ]
  },
  {
   "cell_type": "code",
   "execution_count": 26,
   "metadata": {},
   "outputs": [],
   "source": [
    "data['previous_application']['DAYS_FIRST_DRAWING'].replace(365243, np.nan, inplace= True)\n",
    "data['previous_application']['DAYS_FIRST_DUE'].replace(365243, np.nan, inplace= True)\n",
    "data['previous_application']['DAYS_LAST_DUE_1ST_VERSION'].replace(365243, np.nan, inplace= True)\n",
    "data['previous_application']['DAYS_LAST_DUE'].replace(365243, np.nan, inplace= True)\n",
    "data['previous_application']['DAYS_TERMINATION'].replace(365243, np.nan, inplace= True)"
   ]
  },
  {
   "cell_type": "markdown",
   "metadata": {},
   "source": [
    "## <a id=\"2.\">2. Handling missing value</a>"
   ]
  },
  {
   "cell_type": "markdown",
   "metadata": {},
   "source": [
    "### <a id=\"2.1.\">2.1. Missing value in other form</a>"
   ]
  },
  {
   "cell_type": "code",
   "execution_count": 29,
   "metadata": {},
   "outputs": [],
   "source": [
    "for key in data.keys():\n",
    "    data[key].replace(['XNA', 'Unknown', 'Unknown type of loan'], np.nan, inplace= True)"
   ]
  },
  {
   "cell_type": "markdown",
   "metadata": {},
   "source": [
    "### <a id=\"2.2.\">2.2. Checking missing value percentage</a>"
   ]
  },
  {
   "cell_type": "markdown",
   "metadata": {},
   "source": [
    "We found that there are a lot of missing values in the datasets. Lets check percentages"
   ]
  },
  {
   "cell_type": "code",
   "execution_count": 32,
   "metadata": {},
   "outputs": [
    {
     "name": "stdout",
     "output_type": "stream",
     "text": [
      "\n",
      "Missing value percentages in application_train:\n",
      "COMMONAREA_MEDI                 69.887687\n",
      "COMMONAREA_AVG                  69.887687\n",
      "COMMONAREA_MODE                 69.887687\n",
      "NONLIVINGAPARTMENTS_MODE        69.456402\n",
      "NONLIVINGAPARTMENTS_MEDI        69.456402\n",
      "NONLIVINGAPARTMENTS_AVG         69.456402\n",
      "FONDKAPREMONT_MODE              68.406847\n",
      "LIVINGAPARTMENTS_MODE           68.370263\n",
      "LIVINGAPARTMENTS_MEDI           68.370263\n",
      "LIVINGAPARTMENTS_AVG            68.370263\n",
      "FLOORSMIN_AVG                   67.865403\n",
      "FLOORSMIN_MODE                  67.865403\n",
      "FLOORSMIN_MEDI                  67.865403\n",
      "YEARS_BUILD_MEDI                66.535777\n",
      "YEARS_BUILD_AVG                 66.535777\n",
      "YEARS_BUILD_MODE                66.535777\n",
      "OWN_CAR_AGE                     65.927669\n",
      "LANDAREA_AVG                    59.400266\n",
      "LANDAREA_MODE                   59.400266\n",
      "LANDAREA_MEDI                   59.400266\n",
      "BASEMENTAREA_MEDI               58.540948\n",
      "BASEMENTAREA_MODE               58.540948\n",
      "BASEMENTAREA_AVG                58.540948\n",
      "EXT_SOURCE_1                    56.308916\n",
      "NONLIVINGAREA_AVG               55.259767\n",
      "NONLIVINGAREA_MODE              55.259767\n",
      "NONLIVINGAREA_MEDI              55.259767\n",
      "ELEVATORS_MEDI                  53.335041\n",
      "ELEVATORS_AVG                   53.335041\n",
      "ELEVATORS_MODE                  53.335041\n",
      "WALLSMATERIAL_MODE              50.884317\n",
      "APARTMENTS_MEDI                 50.804645\n",
      "APARTMENTS_MODE                 50.804645\n",
      "APARTMENTS_AVG                  50.804645\n",
      "ENTRANCES_MEDI                  50.383929\n",
      "ENTRANCES_MODE                  50.383929\n",
      "ENTRANCES_AVG                   50.383929\n",
      "LIVINGAREA_MODE                 50.237186\n",
      "LIVINGAREA_MEDI                 50.237186\n",
      "LIVINGAREA_AVG                  50.237186\n",
      "HOUSETYPE_MODE                  50.217675\n",
      "FLOORSMAX_MODE                  49.808340\n",
      "FLOORSMAX_AVG                   49.808340\n",
      "FLOORSMAX_MEDI                  49.808340\n",
      "YEARS_BEGINEXPLUATATION_MODE    48.812035\n",
      "YEARS_BEGINEXPLUATATION_MEDI    48.812035\n",
      "YEARS_BEGINEXPLUATATION_AVG     48.812035\n",
      "TOTALAREA_MODE                  48.298639\n",
      "EMERGENCYSTATE_MODE             47.434037\n",
      "OCCUPATION_TYPE                 31.342756\n",
      "EXT_SOURCE_3                    19.846428\n",
      "ORGANIZATION_TYPE               18.017227\n",
      "DAYS_EMPLOYED                   18.017227\n",
      "AMT_REQ_CREDIT_BUREAU_HOUR      13.499913\n",
      "AMT_REQ_CREDIT_BUREAU_DAY       13.499913\n",
      "AMT_REQ_CREDIT_BUREAU_WEEK      13.499913\n",
      "AMT_REQ_CREDIT_BUREAU_MON       13.499913\n",
      "AMT_REQ_CREDIT_BUREAU_QRT       13.499913\n",
      "AMT_REQ_CREDIT_BUREAU_YEAR      13.499913\n",
      "NAME_TYPE_SUITE                  0.425188\n",
      "OBS_30_CNT_SOCIAL_CIRCLE         0.327224\n",
      "DEF_30_CNT_SOCIAL_CIRCLE         0.327224\n",
      "OBS_60_CNT_SOCIAL_CIRCLE         0.327224\n",
      "DEF_60_CNT_SOCIAL_CIRCLE         0.327224\n",
      "EXT_SOURCE_2                     0.215033\n",
      "AMT_GOODS_PRICE                  0.091054\n",
      "AMT_ANNUITY                      0.004065\n",
      "CODE_GENDER                      0.001219\n",
      "DAYS_LAST_PHONE_CHANGE           0.000406\n",
      "CNT_FAM_MEMBERS                  0.000406\n",
      "NAME_FAMILY_STATUS               0.000406\n",
      "dtype: float64\n",
      "\n",
      "Missing value percentages in application_test:\n",
      "COMMONAREA_MEDI                 69.810738\n",
      "COMMONAREA_AVG                  69.810738\n",
      "COMMONAREA_MODE                 69.810738\n",
      "NONLIVINGAPARTMENTS_MODE        69.339208\n",
      "NONLIVINGAPARTMENTS_MEDI        69.339208\n",
      "NONLIVINGAPARTMENTS_AVG         69.339208\n",
      "FONDKAPREMONT_MODE              68.303470\n",
      "LIVINGAPARTMENTS_MODE           68.293714\n",
      "LIVINGAPARTMENTS_MEDI           68.293714\n",
      "LIVINGAPARTMENTS_AVG            68.293714\n",
      "FLOORSMIN_AVG                   67.781536\n",
      "FLOORSMIN_MODE                  67.781536\n",
      "FLOORSMIN_MEDI                  67.781536\n",
      "YEARS_BUILD_MEDI                66.345810\n",
      "YEARS_BUILD_AVG                 66.345810\n",
      "YEARS_BUILD_MODE                66.345810\n",
      "OWN_CAR_AGE                     66.243374\n",
      "LANDAREA_AVG                    59.282625\n",
      "LANDAREA_MODE                   59.282625\n",
      "LANDAREA_MEDI                   59.282625\n",
      "BASEMENTAREA_MEDI               58.415986\n",
      "BASEMENTAREA_MODE               58.415986\n",
      "BASEMENTAREA_AVG                58.415986\n",
      "EXT_SOURCE_1                    56.669702\n",
      "NONLIVINGAREA_AVG               54.856753\n",
      "NONLIVINGAREA_MODE              54.856753\n",
      "NONLIVINGAREA_MEDI              54.856753\n",
      "ELEVATORS_MEDI                  53.139735\n",
      "ELEVATORS_AVG                   53.139735\n",
      "ELEVATORS_MODE                  53.139735\n",
      "WALLSMATERIAL_MODE              50.666645\n",
      "APARTMENTS_MEDI                 50.530064\n",
      "APARTMENTS_MODE                 50.530064\n",
      "APARTMENTS_AVG                  50.530064\n",
      "ENTRANCES_MEDI                  50.208123\n",
      "ENTRANCES_MODE                  50.208123\n",
      "ENTRANCES_AVG                   50.208123\n",
      "LIVINGAREA_MODE                 50.017886\n",
      "LIVINGAREA_MEDI                 50.017886\n",
      "LIVINGAREA_AVG                  50.017886\n",
      "HOUSETYPE_MODE                  50.009756\n",
      "FLOORSMAX_MODE                  49.570746\n",
      "FLOORSMAX_AVG                   49.570746\n",
      "FLOORSMAX_MEDI                  49.570746\n",
      "YEARS_BEGINEXPLUATATION_MODE    48.656954\n",
      "YEARS_BEGINEXPLUATATION_MEDI    48.656954\n",
      "YEARS_BEGINEXPLUATATION_AVG     48.656954\n",
      "TOTALAREA_MODE                  48.148028\n",
      "EMERGENCYSTATE_MODE             47.255374\n",
      "OCCUPATION_TYPE                 31.356704\n",
      "EXT_SOURCE_3                    19.740821\n",
      "ORGANIZATION_TYPE               17.966895\n",
      "DAYS_EMPLOYED                   17.966895\n",
      "AMT_REQ_CREDIT_BUREAU_HOUR      13.508504\n",
      "AMT_REQ_CREDIT_BUREAU_DAY       13.508504\n",
      "AMT_REQ_CREDIT_BUREAU_WEEK      13.508504\n",
      "AMT_REQ_CREDIT_BUREAU_MON       13.508504\n",
      "AMT_REQ_CREDIT_BUREAU_QRT       13.508504\n",
      "AMT_REQ_CREDIT_BUREAU_YEAR      13.508504\n",
      "NAME_TYPE_SUITE                  0.399987\n",
      "OBS_30_CNT_SOCIAL_CIRCLE         0.351208\n",
      "DEF_30_CNT_SOCIAL_CIRCLE         0.351208\n",
      "OBS_60_CNT_SOCIAL_CIRCLE         0.351208\n",
      "DEF_60_CNT_SOCIAL_CIRCLE         0.351208\n",
      "EXT_SOURCE_2                     0.213001\n",
      "AMT_GOODS_PRICE                  0.087802\n",
      "AMT_ANNUITY                      0.003252\n",
      "CNT_FAM_MEMBERS                  0.001626\n",
      "NAME_FAMILY_STATUS               0.001626\n",
      "CODE_GENDER                      0.001626\n",
      "dtype: float64\n",
      "\n",
      "Missing value percentages in bureau:\n",
      "AMT_ANNUITY               77.116885\n",
      "AMT_CREDIT_MAX_OVERDUE    64.732738\n",
      "DAYS_ENDDATE_FACT         37.170867\n",
      "AMT_CREDIT_SUM_LIMIT      33.417160\n",
      "AMT_CREDIT_SUM_DEBT       15.224882\n",
      "DAYS_CREDIT_ENDDATE        8.289970\n",
      "CREDIT_TYPE                0.032211\n",
      "AMT_CREDIT_SUM             0.000205\n",
      "DAYS_CREDIT_UPDATE         0.000068\n",
      "dtype: float64\n",
      "\n",
      "Missing value percentages in bureau_balance:\n",
      "Series([], dtype: float64)\n",
      "\n",
      "Missing value percentages in previous_application:\n",
      "RATE_INTEREST_PRIMARY        99.661102\n",
      "RATE_INTEREST_PRIVILEGED     99.661102\n",
      "DAYS_FIRST_DRAWING           96.215536\n",
      "NAME_PRODUCT_TYPE            63.666433\n",
      "NAME_GOODS_CATEGORY          56.391627\n",
      "DAYS_TERMINATION             53.413416\n",
      "AMT_DOWN_PAYMENT             53.019698\n",
      "RATE_DOWN_PAYMENT            53.019698\n",
      "DAYS_LAST_DUE                52.479131\n",
      "NAME_SELLER_INDUSTRY         50.599243\n",
      "NAME_TYPE_SUITE              49.138538\n",
      "DAYS_LAST_DUE_1ST_VERSION    45.285743\n",
      "DAYS_FIRST_DUE               42.092918\n",
      "NAME_CASH_LOAN_PURPOSE       40.132319\n",
      "NFLAG_INSURED_ON_APPROVAL    39.690571\n",
      "NAME_PAYMENT_TYPE            36.992264\n",
      "NAME_YIELD_GROUP             30.359885\n",
      "AMT_GOODS_PRICE              22.602021\n",
      "AMT_ANNUITY                  21.731469\n",
      "NAME_PORTFOLIO               21.731116\n",
      "CNT_PAYMENT                  21.731116\n",
      "CODE_REJECT_REASON            0.309684\n",
      "NAME_CLIENT_TYPE              0.109146\n",
      "PRODUCT_COMBINATION           0.022140\n",
      "NAME_CONTRACT_TYPE            0.022140\n",
      "AMT_CREDIT                    0.000071\n",
      "dtype: float64\n",
      "\n",
      "Missing value percentages in POS_CASH_balance:\n",
      "CNT_INSTALMENT_FUTURE    0.256081\n",
      "CNT_INSTALMENT           0.255906\n",
      "NAME_CONTRACT_STATUS     0.000023\n",
      "dtype: float64\n",
      "\n",
      "Missing value percentages in installments_payments:\n",
      "DAYS_ENTRY_PAYMENT    0.021163\n",
      "AMT_PAYMENT           0.021163\n",
      "AMT_INSTALMENT        0.000013\n",
      "SK_ID_CURR            0.000013\n",
      "dtype: float64\n",
      "\n",
      "Missing value percentages in credit_card_balance:\n",
      "AMT_PAYMENT_CURRENT           19.210029\n",
      "AMT_DRAWINGS_ATM_CURRENT      18.765817\n",
      "AMT_DRAWINGS_OTHER_CURRENT    18.765817\n",
      "AMT_DRAWINGS_POS_CURRENT      18.765817\n",
      "CNT_DRAWINGS_ATM_CURRENT      18.765817\n",
      "CNT_DRAWINGS_OTHER_CURRENT    18.765817\n",
      "CNT_DRAWINGS_POS_CURRENT      18.765817\n",
      "AMT_INST_MIN_REGULARITY        8.190423\n",
      "CNT_INSTALMENT_MATURE_CUM      8.190423\n",
      "dtype: float64\n"
     ]
    }
   ],
   "source": [
    "# Check missing percentage for each dataset\n",
    "for key in data.keys():\n",
    "    print(f\"\\nMissing value percentages in {key}:\")\n",
    "    missing_percentage = check_missing_percentage(data[key])\n",
    "    print(missing_percentage)"
   ]
  },
  {
   "cell_type": "markdown",
   "metadata": {},
   "source": [
    "### <a id=\"2.3.\">2.3. Drop missing value</a>"
   ]
  },
  {
   "cell_type": "markdown",
   "metadata": {},
   "source": [
    "Removing the columns having more than 80% of missing values. Possible that we lose some info, but it does not make sense to keep them either."
   ]
  },
  {
   "cell_type": "code",
   "execution_count": 35,
   "metadata": {},
   "outputs": [
    {
     "name": "stdout",
     "output_type": "stream",
     "text": [
      "Dropped columns with more than 80.0% missing values: []\n",
      "Dropped columns with more than 80.0% missing values: []\n",
      "Dropped columns with more than 80.0% missing values: []\n",
      "Dropped columns with more than 80.0% missing values: []\n",
      "Dropped columns with more than 80.0% missing values: ['RATE_INTEREST_PRIMARY', 'RATE_INTEREST_PRIVILEGED', 'DAYS_FIRST_DRAWING']\n",
      "Dropped columns with more than 80.0% missing values: []\n",
      "Dropped columns with more than 80.0% missing values: []\n",
      "Dropped columns with more than 80.0% missing values: []\n"
     ]
    }
   ],
   "source": [
    "# Apply missing value handling to all datasets\n",
    "for key in data.keys():\n",
    "    data[key] = handle_missing_values(data[key])"
   ]
  },
  {
   "cell_type": "markdown",
   "metadata": {},
   "source": [
    "### <a id=\"2.4.\">2.4. Imputing missing value</a>\n"
   ]
  },
  {
   "cell_type": "code",
   "execution_count": 37,
   "metadata": {},
   "outputs": [],
   "source": [
    "for key in data.keys():\n",
    "    impute_cols_with_nas(data[key])"
   ]
  },
  {
   "cell_type": "markdown",
   "metadata": {
    "_cell_guid": "30f83912-ecf4-49d9-bd27-ba9d2a3a4d0d",
    "_uuid": "9f906d1da1bccc7fafa88af8ec369a1c9f9d82ae"
   },
   "source": [
    "## <a id=\"2.\">2. Handling Categorical Features</a>"
   ]
  },
  {
   "cell_type": "code",
   "execution_count": 39,
   "metadata": {
    "_cell_guid": "bbbb40c8-b420-4472-b1cc-3d8e9199f736",
    "_kg_hide-input": false,
    "_uuid": "17438fe941c9d5c16ff99ea76abae92915baf42e"
   },
   "outputs": [
    {
     "name": "stdout",
     "output_type": "stream",
     "text": [
      "\n",
      "Processing application_train dataset...\n",
      "Processed application_train dataset. Final shape: (246009, 219)\n",
      "\n",
      "Processing application_test dataset...\n",
      "Processed application_test dataset. Final shape: (61502, 218)\n",
      "\n",
      "Processing bureau dataset...\n",
      "Processed bureau dataset. Final shape: (1465325, 33)\n",
      "\n",
      "Processing bureau_balance dataset...\n",
      "Processed bureau_balance dataset. Final shape: (27299925, 9)\n",
      "\n",
      "Processing previous_application dataset...\n",
      "Processed previous_application dataset. Final shape: (1413701, 129)\n",
      "\n",
      "Processing POS_CASH_balance dataset...\n",
      "Processed POS_CASH_balance dataset. Final shape: (8543375, 14)\n",
      "\n",
      "Processing installments_payments dataset...\n",
      "Processed installments_payments dataset. Final shape: (7744758, 8)\n",
      "\n",
      "Processing credit_card_balance dataset...\n",
      "Processed credit_card_balance dataset. Final shape: (3227965, 28)\n"
     ]
    }
   ],
   "source": [
    "for key in data.keys():\n",
    "    print(f\"\\nProcessing {key} dataset...\")\n",
    "    data[key] = encode_categorical_features(data[key])\n",
    "    print(f\"Processed {key} dataset. Final shape: {data[key].shape}\")"
   ]
  },
  {
   "cell_type": "markdown",
   "metadata": {},
   "source": [
    "Categorical encoding can chage the number of features in train and test so align them so that they won't cause while model building"
   ]
  },
  {
   "cell_type": "code",
   "execution_count": 41,
   "metadata": {},
   "outputs": [
    {
     "name": "stdout",
     "output_type": "stream",
     "text": [
      "Training Features shape:  (246009, 219)\n",
      "Testing Features shape:  (61502, 218)\n"
     ]
    }
   ],
   "source": [
    "train_labels = data['application_train']['TARGET']\n",
    "\n",
    "data['application_train'], data['application_test'] = data['application_train'].align(data['application_test'], join = 'inner', axis = 1)\n",
    "\n",
    "data['application_train']['TARGET'] = train_labels\n",
    "\n",
    "print('Training Features shape: ', data['application_train'].shape)\n",
    "print('Testing Features shape: ', data['application_test'].shape)"
   ]
  },
  {
   "cell_type": "markdown",
   "metadata": {
    "_cell_guid": "bb478ad4-70b7-43de-9043-4d162da1bcfb",
    "_uuid": "4c85c54935d70e7ae62705d7daec1913c1332941"
   },
   "source": [
    "## <a id=\"3.\">3. Feature Engineering</a>"
   ]
  },
  {
   "cell_type": "markdown",
   "metadata": {
    "_cell_guid": "297608a9-e175-45df-9969-24f06103ac24",
    "_uuid": "5e4542f9d60ccf2f6075d8f8ce135c16d6f133f2"
   },
   "source": [
    "### <a id=\"3.1\">3.1 Feature Engineering - Previous Applications</a>\n"
   ]
  },
  {
   "cell_type": "code",
   "execution_count": 44,
   "metadata": {
    "_cell_guid": "c580da5f-931b-40b8-8ab5-94191c17687d",
    "_uuid": "6f14a7ac451246b17e071bf7c090d4a3c94bd14d"
   },
   "outputs": [],
   "source": [
    "data['previous_application']['credit_goods_diff'] = data['previous_application']['AMT_CREDIT'] - data['previous_application']['AMT_GOODS_PRICE']\n",
    "data['previous_application']['credit_goods_ratio'] = data['previous_application']['AMT_CREDIT'] / data['previous_application']['AMT_GOODS_PRICE']\n",
    "data['previous_application']['application_credit_diff'] = data['previous_application']['AMT_APPLICATION'] - data['previous_application']['AMT_CREDIT']\n",
    "data['previous_application']['application_credit_ratio'] = data['previous_application']['AMT_APPLICATION'] / data['previous_application']['AMT_CREDIT']\n",
    "data['previous_application']['CREDIT_ANNUITY_diff'] = data['previous_application']['AMT_ANNUITY'] - data['previous_application']['AMT_CREDIT']\n",
    "data['previous_application']['CREDIT_ANNUITY_ratio'] = data['previous_application']['AMT_ANNUITY'] / data['previous_application']['AMT_CREDIT']"
   ]
  },
  {
   "cell_type": "code",
   "execution_count": 45,
   "metadata": {},
   "outputs": [],
   "source": [
    "data['previous_application']['credit_goods_ratio'].replace([np.inf, -np.inf], data['previous_application']['credit_goods_ratio'].median(), inplace = True)\n",
    "data['previous_application']['application_credit_ratio'].replace([np.inf, -np.inf], data['previous_application']['application_credit_ratio'].median(), inplace = True)\n",
    "data['previous_application']['CREDIT_ANNUITY_ratio'].replace([np.inf, -np.inf], data['previous_application']['CREDIT_ANNUITY_ratio'].median(), inplace = True)\n",
    "data['previous_application']['application_credit_diff'].replace([np.inf, -np.inf], data['previous_application']['application_credit_diff'].median(), inplace = True)"
   ]
  },
  {
   "cell_type": "markdown",
   "metadata": {
    "_cell_guid": "17a0e75a-0cc2-4b57-b49f-9a7bb2de8ae8",
    "_uuid": "89a60099b3c00ea4a655b87faec58518da49ed4f"
   },
   "source": [
    "### <a id=\"3.2\">3.2 Feature Engineering - Bureau Data</a>"
   ]
  },
  {
   "cell_type": "code",
   "execution_count": 47,
   "metadata": {
    "_cell_guid": "34e4a082-8b0a-401b-a6f5-445a80ff914c",
    "_uuid": "a60c27e992209f896a8506c753541b230e8e059a"
   },
   "outputs": [],
   "source": [
    "data['bureau']['LOAN_RATE'] = data['bureau']['AMT_ANNUITY'] / data['bureau']['AMT_CREDIT_SUM']"
   ]
  },
  {
   "cell_type": "code",
   "execution_count": 48,
   "metadata": {},
   "outputs": [],
   "source": [
    "data['bureau']['LOAN_RATE'].replace([np.inf, -np.inf], data['bureau']['LOAN_RATE'].median(), inplace = True)"
   ]
  },
  {
   "cell_type": "markdown",
   "metadata": {
    "_cell_guid": "6fb9b781-ddd2-48b4-ab5d-329ad4b2c7c9",
    "_uuid": "3189330af669cbc014df9fd0184f40bb5b705c2a"
   },
   "source": [
    "### <a id=\"3.3\">3.3 Feature Engineering - Previous Installments</a>"
   ]
  },
  {
   "cell_type": "code",
   "execution_count": 50,
   "metadata": {
    "_cell_guid": "db1c8cae-fda4-4d8c-ad01-d9dafddcc5d0",
    "_uuid": "6225de449619e9caef0cfa377e5902bc23fc2efa"
   },
   "outputs": [],
   "source": [
    "data['POS_CASH_balance']['CNT_installment_diff'] = data['POS_CASH_balance']['CNT_INSTALMENT'] - data['POS_CASH_balance']['CNT_INSTALMENT_FUTURE']\n",
    "data['POS_CASH_balance']['LATE_PAYMENT'] = data['POS_CASH_balance']['SK_DPD'] > 0.0"
   ]
  },
  {
   "cell_type": "code",
   "execution_count": 51,
   "metadata": {},
   "outputs": [],
   "source": [
    "data['POS_CASH_balance']['CNT_installment_diff'].replace([np.inf, -np.inf], data['POS_CASH_balance']['CNT_installment_diff'].median(), inplace = True)"
   ]
  },
  {
   "cell_type": "markdown",
   "metadata": {
    "_cell_guid": "60867702-d206-40f5-b7c9-2b16d43dde50",
    "_uuid": "e6ceb2f03c136ee5e87da21e7bedfbdf2894017f"
   },
   "source": [
    "### <a id=\"3.4\">3.4 Feature Engineering - Pos Cash Balance</a>"
   ]
  },
  {
   "cell_type": "code",
   "execution_count": 53,
   "metadata": {
    "_cell_guid": "d86090df-92a6-4e4b-ae54-7b9a672076ca",
    "_uuid": "c55e63ed63a14d5fa7a0ddda9c4e3df0f8e3fa5c"
   },
   "outputs": [],
   "source": [
    "data['credit_card_balance']['OVER_LIMIT'] = data['credit_card_balance']['AMT_BALANCE'] > data['credit_card_balance']['AMT_CREDIT_LIMIT_ACTUAL']\n",
    "data['credit_card_balance']['BALANCE_CLEARED'] = data['credit_card_balance']['AMT_BALANCE'] == 0.0\n",
    "data['credit_card_balance']['LOW_PAYMENT'] = data['credit_card_balance']['AMT_PAYMENT_CURRENT'] < data['credit_card_balance']['AMT_INST_MIN_REGULARITY']\n",
    "data['credit_card_balance']['LATE'] = data['credit_card_balance']['SK_DPD'] > 0.0"
   ]
  },
  {
   "cell_type": "markdown",
   "metadata": {
    "_cell_guid": "992ee018-7b43-4e73-9c0d-326689406fc0",
    "_uuid": "7e9b9e71475186b2061c4d172cc74a17080f235f"
   },
   "source": [
    "### <a id=\"3.5\">3.5 Feature Engineering - Credit Card Balance </a>"
   ]
  },
  {
   "cell_type": "code",
   "execution_count": 55,
   "metadata": {
    "_cell_guid": "84f69895-b332-4bfc-a0e8-54f222f27508",
    "_uuid": "efe17c3db4d8b2899373d277dc31ea85d33628aa"
   },
   "outputs": [],
   "source": [
    "data['credit_card_balance']['OVER_LIMIT'] = data['credit_card_balance']['AMT_BALANCE'] > data['credit_card_balance']['AMT_CREDIT_LIMIT_ACTUAL']\n",
    "data['credit_card_balance']['BALANCE_CLEARED'] = data['credit_card_balance']['AMT_BALANCE'] == 0.0\n",
    "data['credit_card_balance']['LOW_PAYMENT'] = data['credit_card_balance']['AMT_PAYMENT_CURRENT'] < data['credit_card_balance']['AMT_INST_MIN_REGULARITY']\n",
    "data['credit_card_balance']['LATE'] = data['credit_card_balance']['SK_DPD'] > 0.0"
   ]
  },
  {
   "cell_type": "markdown",
   "metadata": {},
   "source": [
    "### <a id=\"3.6\">3.6. Feature Engineering - Installments_payments</a>"
   ]
  },
  {
   "cell_type": "code",
   "execution_count": 57,
   "metadata": {},
   "outputs": [],
   "source": [
    "data['installments_payments']['installment_paid_late_in_days'] = data['installments_payments']['DAYS_ENTRY_PAYMENT'] - data['installments_payments']['DAYS_INSTALMENT']\n",
    "data['installments_payments']['instalment_paid_over_amount'] = data['installments_payments']['AMT_PAYMENT'] - data['installments_payments']['AMT_INSTALMENT']\n",
    "data['installments_payments']['LATE'] = data['installments_payments']['DAYS_ENTRY_PAYMENT'] > data['installments_payments']['DAYS_INSTALMENT']\n",
    "data['installments_payments']['LOW_PAYMENT'] = data['installments_payments']['AMT_PAYMENT'] < data['installments_payments']['AMT_INSTALMENT']"
   ]
  },
  {
   "cell_type": "code",
   "execution_count": 58,
   "metadata": {},
   "outputs": [],
   "source": [
    "data['installments_payments']['installment_paid_late_in_days'].replace([np.inf, -np.inf], data['installments_payments']['installment_paid_late_in_days'].median(), inplace = True)\n",
    "data['installments_payments']['instalment_paid_over_amount'].replace([np.inf, -np.inf], data['installments_payments']['instalment_paid_over_amount'].median(), inplace = True)"
   ]
  },
  {
   "cell_type": "markdown",
   "metadata": {},
   "source": [
    "### <a id=\"3.7\">3.7. Feature Engineering - Application train & test</a>"
   ]
  },
  {
   "cell_type": "code",
   "execution_count": 60,
   "metadata": {},
   "outputs": [],
   "source": [
    "poly_features = data['application_train'][['EXT_SOURCE_1', 'EXT_SOURCE_2', 'EXT_SOURCE_3', 'DAYS_BIRTH', 'TARGET']]\n",
    "poly_features_test = data['application_test'][['EXT_SOURCE_1', 'EXT_SOURCE_2', 'EXT_SOURCE_3', 'DAYS_BIRTH']]\n",
    "\n",
    "poly_target = poly_features['TARGET']\n",
    "poly_features = poly_features.drop(columns = ['TARGET'])\n",
    "\n",
    "                                  \n",
    "poly_transformer = PolynomialFeatures(degree = 3)\n",
    "poly_transformer.fit(poly_features)\n",
    "\n",
    "poly_features = poly_transformer.transform(poly_features)\n",
    "poly_features_test = poly_transformer.transform(poly_features_test)\n",
    "poly_transformer.get_feature_names_out(input_features = ['EXT_SOURCE_1', 'EXT_SOURCE_2', 'EXT_SOURCE_3', 'DAYS_BIRTH'])[:15]\n",
    "\n",
    "poly_features = pd.DataFrame(poly_features,columns = poly_transformer.get_feature_names_out(['EXT_SOURCE_1', 'EXT_SOURCE_2','EXT_SOURCE_3', 'DAYS_BIRTH']))\n",
    "\n",
    "poly_features_test = pd.DataFrame(poly_features_test, columns = poly_transformer.get_feature_names_out(['EXT_SOURCE_1', 'EXT_SOURCE_2', 'EXT_SOURCE_3', 'DAYS_BIRTH']))\n"
   ]
  },
  {
   "cell_type": "code",
   "execution_count": 61,
   "metadata": {},
   "outputs": [],
   "source": [
    "data['application_train'] = pd.concat([data['application_train'], poly_features], axis=1)\n",
    "data['application_train'] = data['application_train'].loc[:,~data['application_train'].columns.duplicated()].copy()\n",
    "data['application_test'] = pd.concat([data['application_test'], poly_features_test], axis=1)\n",
    "data['application_test'] = data['application_test'].loc[:,~data['application_test'].columns.duplicated()].copy()\n",
    "\n",
    "data['application_train']['CREDIT_INCOME_PERCENT'] = data['application_train']['AMT_CREDIT'] / data['application_train']['AMT_INCOME_TOTAL']\n",
    "data['application_train']['ANNUITY_INCOME_PERCENT'] = data['application_train']['AMT_ANNUITY'] / data['application_train']['AMT_INCOME_TOTAL']\n",
    "data['application_train']['CREDIT_TERM'] = data['application_train']['AMT_ANNUITY'] / data['application_train']['AMT_CREDIT']\n",
    "data['application_train']['DAYS_EMPLOYED_PERCENT'] = data['application_train']['DAYS_EMPLOYED'] / data['application_train']['DAYS_BIRTH']\n",
    "\n",
    "data['application_test']['CREDIT_INCOME_PERCENT'] = data['application_test']['AMT_CREDIT'] / data['application_test']['AMT_INCOME_TOTAL']\n",
    "data['application_test']['ANNUITY_INCOME_PERCENT'] = data['application_test']['AMT_ANNUITY'] / data['application_test']['AMT_INCOME_TOTAL']\n",
    "data['application_test']['CREDIT_TERM'] = data['application_test']['AMT_ANNUITY'] / data['application_test']['AMT_CREDIT']\n",
    "data['application_test']['DAYS_EMPLOYED_PERCENT'] = data['application_test']['DAYS_EMPLOYED'] / data['application_test']['DAYS_BIRTH']"
   ]
  },
  {
   "cell_type": "code",
   "execution_count": 62,
   "metadata": {},
   "outputs": [
    {
     "name": "stdout",
     "output_type": "stream",
     "text": [
      "\n",
      "Missing value percentages in application_train:\n",
      "Series([], dtype: float64)\n",
      "\n",
      "Missing value percentages in application_test:\n",
      "Series([], dtype: float64)\n",
      "\n",
      "Missing value percentages in bureau:\n",
      "LOAN_RATE    0.398683\n",
      "dtype: float64\n",
      "\n",
      "Missing value percentages in bureau_balance:\n",
      "Series([], dtype: float64)\n",
      "\n",
      "Missing value percentages in previous_application:\n",
      "application_credit_ratio    19.563967\n",
      "credit_goods_ratio           0.154771\n",
      "CREDIT_ANNUITY_ratio         0.086793\n",
      "dtype: float64\n",
      "\n",
      "Missing value percentages in POS_CASH_balance:\n",
      "Series([], dtype: float64)\n",
      "\n",
      "Missing value percentages in installments_payments:\n",
      "Series([], dtype: float64)\n",
      "\n",
      "Missing value percentages in credit_card_balance:\n",
      "Series([], dtype: float64)\n"
     ]
    }
   ],
   "source": [
    "for key in data.keys():\n",
    "    print(f\"\\nMissing value percentages in {key}:\")\n",
    "    missing_percentage = check_missing_percentage(data[key])\n",
    "    print(missing_percentage)"
   ]
  },
  {
   "cell_type": "markdown",
   "metadata": {},
   "source": [
    "## <a id=\"4.\">4. Dataset Merging</a>"
   ]
  },
  {
   "cell_type": "markdown",
   "metadata": {},
   "source": [
    "Before merging, aggregate all of them and calculate mean, sum, max and min values."
   ]
  },
  {
   "cell_type": "code",
   "execution_count": 65,
   "metadata": {},
   "outputs": [],
   "source": [
    "y_train = data['application_train']['TARGET']\n",
    "X_train = data['application_train'].drop(columns=['TARGET']) \n",
    "X_test = data['application_test']  "
   ]
  },
  {
   "cell_type": "code",
   "execution_count": 66,
   "metadata": {},
   "outputs": [],
   "source": [
    "bureau_balance_agg = data['bureau_balance'].groupby('SK_ID_BUREAU').agg(['mean', 'sum', 'max', 'min', 'count'])\n",
    "bureau_balance_agg.columns = ['bureau_balance_' + '_'.join(col).strip() for col in bureau_balance_agg.columns.values]\n",
    "\n",
    "data['bureau'] = data['bureau'].merge(bureau_balance_agg, on='SK_ID_BUREAU', how='left')"
   ]
  },
  {
   "cell_type": "code",
   "execution_count": 67,
   "metadata": {},
   "outputs": [],
   "source": [
    "data['bureau'].drop(columns = 'SK_ID_BUREAU', inplace = True)\n",
    "data['previous_application'].drop(columns = 'SK_ID_PREV', inplace = True)\n",
    "data['POS_CASH_balance'].drop(columns = 'SK_ID_PREV', inplace = True)\n",
    "data['installments_payments'].drop(columns = 'SK_ID_PREV', inplace = True)\n",
    "data['credit_card_balance'].drop(columns = 'SK_ID_PREV', inplace = True)"
   ]
  },
  {
   "cell_type": "code",
   "execution_count": 68,
   "metadata": {},
   "outputs": [],
   "source": [
    "bureau_agg = data['bureau'].groupby('SK_ID_CURR').agg(['mean', 'sum', 'max', 'min','count'])\n",
    "bureau_agg.columns = ['_'.join(col).strip() for col in bureau_agg.columns.values]\n",
    "\n",
    "previous_app_agg = data['previous_application'].groupby('SK_ID_CURR').agg(['mean', 'sum', 'max', 'min','count'])\n",
    "previous_app_agg.columns = ['_'.join(col).strip() for col in previous_app_agg.columns.values]\n",
    "\n",
    "credit_card_agg = data['credit_card_balance'].groupby('SK_ID_CURR').agg(['mean', 'sum', 'max', 'min','count'])\n",
    "credit_card_agg.columns = ['_'.join(col).strip() for col in credit_card_agg.columns.values]\n",
    "\n",
    "pos_cash_agg = data['POS_CASH_balance'].groupby('SK_ID_CURR').agg(['mean', 'sum', 'max', 'min', 'count'])\n",
    "pos_cash_agg.columns = ['_'.join(col).strip() for col in pos_cash_agg.columns.values]\n",
    "\n",
    "installments_agg = data['installments_payments'].groupby('SK_ID_CURR').agg(['mean', 'sum', 'max', 'min', 'count'])\n",
    "installments_agg.columns = ['installments_' + '_'.join(col).strip() for col in installments_agg.columns.values]"
   ]
  },
  {
   "cell_type": "code",
   "execution_count": 69,
   "metadata": {},
   "outputs": [],
   "source": [
    "application_train = X_train.merge(bureau_agg, on='SK_ID_CURR', how='left')\n",
    "application_train = application_train.merge(previous_app_agg, on='SK_ID_CURR', how='left')\n",
    "application_train = application_train.merge(credit_card_agg, on='SK_ID_CURR', how='left')\n",
    "application_train = application_train.merge(pos_cash_agg, on='SK_ID_CURR', how='left')\n",
    "application_train = application_train.merge(installments_agg, on='SK_ID_CURR', how='left')\n",
    "\n",
    "application_test = X_test.merge(bureau_agg, on='SK_ID_CURR', how='left')\n",
    "application_test = application_test.merge(previous_app_agg, on='SK_ID_CURR', how='left')\n",
    "application_test = application_test.merge(credit_card_agg, on='SK_ID_CURR', how='left')\n",
    "application_test = application_test.merge(pos_cash_agg, on='SK_ID_CURR', how='left')\n",
    "application_test = application_test.merge(installments_agg, on='SK_ID_CURR', how='left')"
   ]
  },
  {
   "cell_type": "code",
   "execution_count": 70,
   "metadata": {},
   "outputs": [],
   "source": [
    "## Fill missing value after merging\n",
    "impute_cols_with_nas(application_train)\n",
    "impute_cols_with_nas(application_test)"
   ]
  },
  {
   "cell_type": "code",
   "execution_count": 71,
   "metadata": {},
   "outputs": [
    {
     "name": "stdout",
     "output_type": "stream",
     "text": [
      "(246009, 1548)\n",
      "(61502, 1548)\n"
     ]
    }
   ],
   "source": [
    "print(application_train.shape)\n",
    "print(application_test.shape)"
   ]
  },
  {
   "cell_type": "code",
   "execution_count": 117,
   "metadata": {},
   "outputs": [],
   "source": [
    "application_train['TARGET'] = y_train"
   ]
  },
  {
   "cell_type": "code",
   "execution_count": 119,
   "metadata": {},
   "outputs": [],
   "source": [
    "## Save the processed data\n",
    "application_train.to_csv(\"application_train_data.csv\", index = False)\n",
    "application_test.to_csv(\"application_test_data.csv\", index = False)"
   ]
  },
  {
   "cell_type": "code",
   "execution_count": null,
   "metadata": {},
   "outputs": [],
   "source": []
  }
 ],
 "metadata": {
  "kaggle": {
   "accelerator": "none",
   "dataSources": [
    {
     "datasetId": 6228563,
     "sourceId": 10099005,
     "sourceType": "datasetVersion"
    }
   ],
   "dockerImageVersionId": 30804,
   "isGpuEnabled": false,
   "isInternetEnabled": true,
   "language": "python",
   "sourceType": "notebook"
  },
  "kernelspec": {
   "display_name": "Python 3 (ipykernel)",
   "language": "python",
   "name": "python3"
  },
  "language_info": {
   "codemirror_mode": {
    "name": "ipython",
    "version": 3
   },
   "file_extension": ".py",
   "mimetype": "text/x-python",
   "name": "python",
   "nbconvert_exporter": "python",
   "pygments_lexer": "ipython3",
   "version": "3.12.4"
  }
 },
 "nbformat": 4,
 "nbformat_minor": 4
}
